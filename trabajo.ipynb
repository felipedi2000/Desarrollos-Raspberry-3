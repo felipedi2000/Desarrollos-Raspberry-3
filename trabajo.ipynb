{
  "nbformat": 4,
  "nbformat_minor": 0,
  "metadata": {
    "colab": {
      "provenance": []
    },
    "kernelspec": {
      "name": "python3",
      "display_name": "Python 3"
    },
    "language_info": {
      "name": "python"
    }
  },
  "cells": [
    {
      "cell_type": "code",
      "source": [
        "#ejemplo de uso de un if, para una clave\n",
        "clave = \"clavenumero2\"\n",
        "entrada = input(\"ingrese la clave: \")\n",
        "print(\"##########################################\")\n",
        "if clave == \"clavenumero2\":\n",
        "    print(\"clave correcta\")\n",
        "else:\n",
        "    print(\"clave incorrecta\")"
      ],
      "metadata": {
        "colab": {
          "base_uri": "https://localhost:8080/"
        },
        "id": "NzCf-dBCrgZy",
        "outputId": "f32f9b65-6d15-4cd6-a517-433961d7fcc3"
      },
      "execution_count": 3,
      "outputs": [
        {
          "output_type": "stream",
          "name": "stdout",
          "text": [
            "ingrese la clave: 3\n",
            "clave correcta\n"
          ]
        }
      ]
    },
    {
      "cell_type": "code",
      "source": [
        "#generador de una tabla de multiplicar\n",
        "numero = int(input(\"ingrese un tabla a generar: \"))\n",
        "print(\"##########################################\")\n",
        "cnt = 1\n",
        "while cnt < 10:\n",
        "    print(f\"{numero} x {cnt} = {numero * cnt}\")\n",
        "    cnt += 1"
      ],
      "metadata": {
        "colab": {
          "base_uri": "https://localhost:8080/"
        },
        "id": "2XknyTVDsrcN",
        "outputId": "c1c27af0-b6e2-405f-fecd-b1b11260b59f"
      },
      "execution_count": 6,
      "outputs": [
        {
          "output_type": "stream",
          "name": "stdout",
          "text": [
            "ingrese un tabla a generar: 2\n",
            "2 x 1 = 2\n",
            "2 x 2 = 4\n",
            "2 x 3 = 6\n",
            "2 x 4 = 8\n",
            "2 x 5 = 10\n",
            "2 x 6 = 12\n",
            "2 x 7 = 14\n",
            "2 x 8 = 16\n",
            "2 x 9 = 18\n"
          ]
        }
      ]
    },
    {
      "cell_type": "code",
      "source": [
        "# generar la media aritmetica de un conjunto de numero\n",
        "cnt = int(input(\"ingrese la cantidad de numeros a ingresar: \"))\n",
        "suma = 0\n",
        "for i in range(cnt):\n",
        "    num = int(input(f\"ingrese el numero {i + 1}: \"))\n",
        "    suma += num\n",
        "    prom = suma / cnt\n",
        "print(\"##########################################\")\n",
        "print(f\"la media aritmetica es: {prom}\")"
      ],
      "metadata": {
        "colab": {
          "base_uri": "https://localhost:8080/"
        },
        "id": "o_uaq_P3tSCx",
        "outputId": "cf4fef20-1e7d-47e9-fe7e-104ff254245d"
      },
      "execution_count": 7,
      "outputs": [
        {
          "output_type": "stream",
          "name": "stdout",
          "text": [
            "ingrese la cantidad de numeros a ingresar: 2\n",
            "ingrese el numero 1: 10\n",
            "ingrese el numero 2: 10\n",
            "la media aritmetica es: 10.0\n"
          ]
        }
      ]
    },
    {
      "cell_type": "code",
      "source": [
        "# crear una lista con frutas\n",
        "frutas = [\"manzana\", \"naranja\", \"plátano\", \"uva\"]\n",
        "print(\"##########################################\")\n",
        "print(frutas[0])  #acceder a una fruta\n",
        "\n",
        "# mostrar la lista de frutas\n",
        "print(\"##########################################\")\n",
        "for fruta in frutas:\n",
        "    print(f\"Fruta: {fruta}\")\n",
        "\n",
        "# agregar una fruta\n",
        "print(\"##########################################\")\n",
        "frutas.append(\"pera\")\n",
        "print(frutas)\n",
        "\n",
        "# eliminar una fruta\n",
        "print(\"##########################################\")\n",
        "frutas.remove(\"naranja\")\n",
        "print(frutas)\n"
      ],
      "metadata": {
        "colab": {
          "base_uri": "https://localhost:8080/"
        },
        "id": "xJrbbrV0uzR1",
        "outputId": "cfe8bd77-e424-45b3-bf69-2c9dd19ecea1"
      },
      "execution_count": 8,
      "outputs": [
        {
          "output_type": "stream",
          "name": "stdout",
          "text": [
            "manzana\n",
            "Fruta: manzana\n",
            "Fruta: naranja\n",
            "Fruta: plátano\n",
            "Fruta: uva\n",
            "['manzana', 'naranja', 'plátano', 'uva', 'pera']\n",
            "['manzana', 'plátano', 'uva', 'pera']\n"
          ]
        }
      ]
    },
    {
      "cell_type": "code",
      "source": [
        "# Diccionario que representa un libro\n",
        "libro = {\n",
        "    \"titulo\": \"Cien años de soledad\",\n",
        "    \"autor\": \"Gabriel García Márquez\",\n",
        "    \"año_publicacion\": 1967,\n",
        "    \"genero\": \"Realismo mágico\",\n",
        "    \"paginas\": 417\n",
        "}\n",
        "\n",
        "#mostrar el diccionario\n",
        "print(\"##########################################\")\n",
        "print(libro)\n",
        "\n",
        "#mostrar los datos del indexando por clave\n",
        "print(\"##########################################\")\n",
        "print(f\"Título: {libro['titulo']}\")\n",
        "print(f\"Autor: {libro['autor']}\")\n",
        "print(f\"Año de publicación: {libro['año_publicacion']}\")\n",
        "print(f\"Género: {libro['genero']}\")\n",
        "print(f\"Páginas: {libro['paginas']}\")\n",
        "print(\"##########################################\")\n",
        "#actualiaar un valor\n",
        "libro[\"año_publicacion\"] = 1999\n",
        "print(f\"Año de publicación actualizado: {libro['año_publicacion']}\")\n",
        "\n",
        "# agregar valor\n",
        "libro[\"pais\"] = \"Colombia\"\n",
        "print(\"##########################################\")\n",
        "# mostar el nuevo diccionario usando un for\n",
        "for clave, valor in libro.items():\n",
        "    print(f\"{clave}: {valor}\")\n"
      ],
      "metadata": {
        "colab": {
          "base_uri": "https://localhost:8080/"
        },
        "id": "s18-xpUIvZ8p",
        "outputId": "56a3045e-b690-4bee-faa0-bbe314a035b7"
      },
      "execution_count": 12,
      "outputs": [
        {
          "output_type": "stream",
          "name": "stdout",
          "text": [
            "##########################################\n",
            "{'titulo': 'Cien años de soledad', 'autor': 'Gabriel García Márquez', 'año_publicacion': 1967, 'genero': 'Realismo mágico', 'paginas': 417}\n",
            "##########################################\n",
            "Título: Cien años de soledad\n",
            "Autor: Gabriel García Márquez\n",
            "Año de publicación: 1967\n",
            "Género: Realismo mágico\n",
            "Páginas: 417\n",
            "##########################################\n",
            "Año de publicación actualizado: 1999\n",
            "##########################################\n",
            "titulo: Cien años de soledad\n",
            "autor: Gabriel García Márquez\n",
            "año_publicacion: 1999\n",
            "genero: Realismo mágico\n",
            "paginas: 417\n",
            "pais: Colombia\n"
          ]
        }
      ]
    }
  ]
}